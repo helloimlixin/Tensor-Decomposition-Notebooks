{
 "cells": [
  {
   "cell_type": "code",
   "execution_count": 7,
   "metadata": {},
   "outputs": [],
   "source": [
    "import numpy as np\n",
    "import tensorly\n",
    "from tensorly import decomposition\n",
    "import matplotlib.pyplot as plt\n",
    "plt.style.use('dark_background')\n",
    "import seaborn as sns\n",
    "from pprint import pprint"
   ]
  },
  {
   "cell_type": "markdown",
   "metadata": {
    "pycharm": {
     "name": "#%% md\n"
    }
   },
   "source": [
    "## Building Block for Tensor Decomposition: Rank-One Tensor = Vector Outer Product\n",
    "\n",
    "An N-way tensor $\\mathcal{X} \\in \\mathbb{R}^{I_1 \\times I_2 \\times \\cdots I_N}$ is *rank\n",
    "one* if it can be written as the outer product of $N$ vectors, i.e.,\n",
    "\n",
    "$\\mathcal{X} = \\bf{a}^{(1)} \\circ \\bf{a}^{(2)} \\circ \\cdots \\circ \\bf{a}^{(N)}$,\n",
    "\n",
    "where $\\circ$ denotes the vector product. Each element of the tensor can thus be denoted\n",
    "by the product of corresponding vector elements,\n",
    "\n",
    "$x_{i_1i_2 \\cdots i_N} = a_{i_1}^{(1)} a_{i_2}^{(2)} \\cdots a_{i_n}^{(n)} \\cdots\n",
    "a_{i_N}^{(N)}$ for all $1 < i_n < I_N$. Here are some examples,"
   ]
  },
  {
   "cell_type": "markdown",
   "metadata": {
    "pycharm": {
     "name": "#%% md\n"
    }
   },
   "source": [
    "### Matrix Version (2-Way)\n",
    "\n",
    "Given two vectors: $\\bf{a} \\in \\mathbb{R}^m, \\bf{b} \\in \\mathbb{R}^n$, then their outer product\n",
    "would formulate a *rank-one* matrix $\\bf{X}$,\n",
    "\n",
    "$\\bf{X} = \\bf{a} \\circ \\bf{b} \\in \\mathbb{R}^{m \\times n}$,\n",
    "\n",
    "where each entry is given by,\n",
    "\n",
    "$x_{ij} = a_i b_j$"
   ]
  },
  {
   "cell_type": "code",
   "execution_count": 9,
   "metadata": {
    "pycharm": {
     "name": "#%%\n"
    }
   },
   "outputs": [
    {
     "name": "stdout",
     "output_type": "stream",
     "text": [
      "Rank of the resulting matrix: 1\n"
     ]
    }
   ],
   "source": [
    "a = np.random.randint(10, size=3)\n",
    "b = np.random.randint(5, size=2)\n",
    "\n",
    "X = np.outer(a, b)\n",
    "\n",
    "def compute_rank(A, tol):\n",
    "    \"\"\"\n",
    "    Helper function to compute the rank of a matrix using SVD.\n",
    "    :param A: target matrix\n",
    "    :param tol: tolerance value for floating point correction\n",
    "    :return: rank of the matrix\n",
    "    \"\"\"\n",
    "    A_outer = np.dot(A, A.T)\n",
    "    A_outer_eigvals = np.linalg.eigvals(A_outer)\n",
    "    return np.sum(A_outer_eigvals > tol)\n",
    "\n",
    "print(f\"Rank of the resulting matrix: {compute_rank(X, 0.000001)}\")"
   ]
  },
  {
   "cell_type": "markdown",
   "metadata": {
    "pycharm": {
     "name": "#%% md\n"
    }
   },
   "source": [
    "### Tensor Version (3-Way)\n",
    "\n",
    "Given three vectors $\\bf{a} \\in \\mathbb{R}^m, \\bf{b} \\in \\mathbb{R}^n, \\bf{c} \\in\n",
    "\\mathbb{R}^p$, their outer products,\n",
    "\n",
    "$ \\mathcal{X} = \\bf{a} \\circ \\bf{b} \\circ \\bf{c} \\in \\mathbb{R}^{m \\times n \\times p}$,\n",
    "\n",
    "where each entry is given by,\n",
    "\n",
    "$x_{ijk} = a_i b_j c_k$."
   ]
  },
  {
   "cell_type": "code",
   "execution_count": 17,
   "metadata": {
    "pycharm": {
     "name": "#%%\n"
    }
   },
   "outputs": [
    {
     "name": "stdout",
     "output_type": "stream",
     "text": [
      "[5 4 9]\n",
      "[0 2]\n",
      "[0 6]\n",
      "[[[  0   0]\n",
      "  [  0  60]]\n",
      "\n",
      " [[  0   0]\n",
      "  [  0  48]]\n",
      "\n",
      " [[  0   0]\n",
      "  [  0 108]]]\n"
     ]
    }
   ],
   "source": [
    "c = np.random.randint(7, size=2)\n",
    "\n",
    "a_tensor = tensorly.tensor(a, dtype=tensorly.int64)\n",
    "b_tensor = tensorly.tensor(b, dtype=tensorly.int64)\n",
    "c_tensor = tensorly.tensor(c, dtype=tensorly.int64)\n",
    "\n",
    "print(a_tensor)\n",
    "print(b_tensor)\n",
    "print(c_tensor)\n",
    "\n",
    "X_tensor = tensorly.tenalg.tensor_dot(tensorly.tenalg.tensor_dot(a, b), c)\n",
    "\n",
    "print(X_tensor)"
   ]
  },
  {
   "cell_type": "markdown",
   "metadata": {},
   "source": [
    "It can be seen intuitively that this is a rank one tensor."
   ]
  },
  {
   "cell_type": "markdown",
   "metadata": {},
   "source": [
    "## Tensor Multiplication: The $n$-Mode Product\n",
    "\n",
    "The $n$-mode (matrix) product of a tensor $\\mathcal{Y} \\in \\mathbb{R}^{J_1 \\times J_2 \\times \\cdots \\times J_N}$ with a matrix $A \\in \\mathbb{R}^{I \\times J_n}$ is denoted by $\\mathcal{Y}_{\\times_n} A$,\n",
    "\n",
    "$(\\mathcal{Y}_{\\times_n A})_{j_1 j_2 \\cdots j_{n - 1} i j_{n + 1} \\cdots j_N} = \\sum_{j_{n - 1}}^{J_n} y_{j_1 j_2 \\cdots j_N}a_{ij_n}$\n",
    "\n",
    "One way of interpreting the $n$-mode multiplication can be as follows, $\\mathcal{Y} \\in \\mathbb{R}^{I \\times J \\times K}, \\bf{B} \\in \\mathbb{R}^{L \\times J}$ and $\\mathcal{X} = \\mathcal{Y}_{\\times_2} \\mathbf{B}$ can be interpreted as,\n",
    "\n",
    "> Each mode-2 fiber of $\\mathcal{X}$ is the result of multiplying the correspondng mode-2 fiber of $\\mathcal{Y}$ by $\\bf{B}$,\n",
    "\n",
    "$x_{i:k} = \\mathbf{B} \\mathcal{y}_{i:k}$, for each $i = 1, 2, \\cdots, I, k = 1, 2, \\cdots, K$."
   ]
  },
  {
   "cell_type": "code",
   "execution_count": 51,
   "metadata": {},
   "outputs": [
    {
     "name": "stdout",
     "output_type": "stream",
     "text": [
      "[[ 22  49  76 103]\n",
      " [ 28  64 100 136]]\n",
      "[[130 157 184 211]\n",
      " [172 208 244 280]]\n"
     ]
    }
   ],
   "source": [
    "Y = tensorly.tensor([[[1, 4, 7, 10], \n",
    "                     [2, 5, 8, 11], \n",
    "                     [3, 6, 9, 12]], \n",
    "                    [[13, 16, 19, 22], \n",
    "                     [14, 17, 20, 23], \n",
    "                     [15, 18, 21, 24]]])\n",
    "\n",
    "A = np.array([[1, 3, 5], [2, 4, 6]])\n",
    "\n",
    "\n",
    "print(tensorly.tenalg.mode_dot(Y, A, mode=1)[0,...])\n",
    "print(tensorly.tenalg.mode_dot(Y, A, mode=1)[1,...])"
   ]
  },
  {
   "cell_type": "markdown",
   "metadata": {
    "pycharm": {
     "name": "#%% md\n"
    }
   },
   "source": [
    "## Tensor Matricization\n",
    "\n",
    "Tensor Matricization or *unfolding*, is an operation that converts a tensor to a matrix. In order to capture\n",
    "all the salient information, there are three pieces of information needed to keep track of:\n",
    "1. The Size of the tensor\n",
    "2. Modes that are mapped to the rows of the matrix\n",
    "3. Modes that are mapped to the columns of the matrix\n",
    "\n",
    "To perform the matricization of a tensor $\\mathcal{X} \\in \\mathbb{R}^{I_1 \\times I_2 \\times \\cdots \\times\n",
    "I_N}$, we have the partitioning of the modes $\\mathcal{N} = \\{1, 2, 3, \\cdots, N\\}$,\n",
    "\n",
    "$$\\mathcal{R} = \\{r_1, r_2, \\cdots, r_L\\}, \\mathcal{C} = \\{c_1, c_2, \\cdots, c_M\\}$$.\n",
    "\n",
    "Now we have the three pieces of information,\n",
    "\n",
    "1. The size of the tensor: ote that we have $I_{\\mathcal{N}} = \\{I_1, I_2, \\cdots, I_N\\}$ denoting the size of the tensor. Hence,\n",
    "the matricization of the tensor can be formulated as,\n",
    "\n",
    "    $X_{(\\mathcal{R} \\times \\mathcal{C}:I_{\\mathcal{N}})} \\in \\mathbb{R}^{J \\times K}$, where\n",
    "$J = \\Pi_{n \\in \\mathcal{R}} I_n$ and $K = \\Pi_{n \\in \\mathcal{C}} I_n$.\n",
    "\n",
    "2. Modes that are mapped to the rows of the matrix: the indices in $\\mathcal{R}$ represent the modes that\n",
    "are mapped to the rows of the matrix,\n",
    "\n",
    "    $j = 1 + \\sum_{l = 1}^L \\Bigl[(i_{rl} - 1)\\Pi_{l' = 1}^{l - 1} I_{rl'}\\Bigr]$\n",
    "\n",
    "3. Modes that are mapped to the columns of the matrix: the indices in $\\mathcal{C}$ represent the modes\n",
    "that are mapped to the columns of the matrix,\n",
    "\n",
    "    $k = 1 + \\sum_{m = 1}^M \\Bigl[(i_{rm} - 1)\\Pi_{m' = 1}^{m - 1} I_{rm'}\\Bigr]$\n",
    "\n",
    "**Example**"
   ]
  },
  {
   "cell_type": "code",
   "execution_count": 12,
   "metadata": {
    "pycharm": {
     "name": "#%%\n"
    }
   },
   "outputs": [
    {
     "name": "stdout",
     "output_type": "stream",
     "text": [
      "Mode 1 Unfolding:\n",
      "\n",
      "array([[ 1,  4,  7, 10,  2,  5,  8, 11,  3,  6,  9, 12],\n",
      "       [13, 16, 19, 22, 14, 17, 20, 23, 15, 18, 21, 24]])\n",
      "\n",
      "Mode 2 Unfolding:\n",
      "\n",
      "array([[ 1,  4,  7, 10, 13, 16, 19, 22],\n",
      "       [ 2,  5,  8, 11, 14, 17, 20, 23],\n",
      "       [ 3,  6,  9, 12, 15, 18, 21, 24]])\n",
      "\n",
      "Mode 3 Unfolding:\n",
      "\n",
      "array([[ 1,  2,  3, 13, 14, 15],\n",
      "       [ 4,  5,  6, 16, 17, 18],\n",
      "       [ 7,  8,  9, 19, 20, 21],\n",
      "       [10, 11, 12, 22, 23, 24]])\n",
      "\n",
      "Recovered Tensor:\n",
      "\n",
      "array([[[ 1,  4,  7, 10],\n",
      "        [ 2,  5,  8, 11],\n",
      "        [ 3,  6,  9, 12]],\n",
      "\n",
      "       [[13, 16, 19, 22],\n",
      "        [14, 17, 20, 23],\n",
      "        [15, 18, 21, 24]]])\n"
     ]
    }
   ],
   "source": [
    "# Define a toy tensor.\n",
    "Y = np.array([[[1,   4,  7,  10],\n",
    "      [2,   5,  8,  11],\n",
    "      [3,   6,  9,  12]],\n",
    "     [[13,  16, 19, 22],\n",
    "      [14,  17, 20, 23],\n",
    "      [15,  18, 21, 24]]])\n",
    "\n",
    "# Compute the unfolding.\n",
    "Y_1 = tensorly.unfold(Y, mode=0)\n",
    "\n",
    "print('Mode 1 Unfolding:\\n')\n",
    "pprint(Y_1)\n",
    "Y_2 = tensorly.unfold(Y, mode=1)\n",
    "print('\\nMode 2 Unfolding:\\n')\n",
    "pprint(Y_2)\n",
    "Y_3 = tensorly.unfold(Y, mode=2)\n",
    "print('\\nMode 3 Unfolding:\\n')\n",
    "pprint(Y_3)\n",
    "\n",
    "# Refold the matricized tensor.\n",
    "print('\\nRecovered Tensor:\\n')\n",
    "pprint(tensorly.fold(Y_1, mode=0, shape=Y.shape))"
   ]
  },
  {
   "cell_type": "markdown",
   "metadata": {},
   "source": [
    "## Tensor Decomposition\n",
    "\n",
    "Three-way decomposition."
   ]
  },
  {
   "cell_type": "code",
   "execution_count": 13,
   "metadata": {
    "pycharm": {
     "name": "#%%\n"
    }
   },
   "outputs": [],
   "source": [
    "# Load data.\n",
    "temporal_factors = np.load(\"data/time_factor.npy\")\n",
    "neuron_factors = np.load(\"data/neuron_factor.npy\")\n",
    "trial_factors = np.load(\"data/trial_factor.npy\")\n",
    "# latent = np.load(\"data/latent.npy\")\n",
    "X = np.load(\"data/observed.npy\")"
   ]
  },
  {
   "cell_type": "code",
   "execution_count": 14,
   "metadata": {
    "pycharm": {
     "name": "#%%\n"
    }
   },
   "outputs": [
    {
     "name": "stdout",
     "output_type": "stream",
     "text": [
      "Epoch:  1 | Loss (A):  0.29852862431534927 | Loss (B):  0.11975193848885152 | Loss (C):  0.05150121156925428\n",
      "Epoch:  2 | Loss (A):  0.011669795258027194 | Loss (B):  0.008500996021198354 | Loss (C):  0.005554100977926492\n",
      "Epoch:  3 | Loss (A):  0.004651067155663795 | Loss (B):  0.0038593902827043524 | Loss (C):  0.003782599274696449\n",
      "Epoch:  4 | Loss (A):  0.003183598135305046 | Loss (B):  0.0026400989621833807 | Loss (C):  0.0026065570125458435\n",
      "Epoch:  5 | Loss (A):  0.0022026759888118712 | Loss (B):  0.0018545042361098152 | Loss (C):  0.001836813866172106\n",
      "Epoch:  6 | Loss (A):  0.001576101991722147 | Loss (B):  0.0013528048501852635 | Loss (C):  0.0013431853764002098\n",
      "Epoch:  7 | Loss (A):  0.0011711970894310944 | Loss (B):  0.001023256243542178 | Loss (C):  0.0010179503578647152\n",
      "Epoch:  8 | Loss (A):  0.0008996044136818454 | Loss (B):  0.0007967519578568721 | Loss (C):  0.000793733458151217\n",
      "Epoch:  9 | Loss (A):  0.0007082766830706165 | Loss (B):  0.0006331067325575677 | Loss (C):  0.0006313200335923014\n",
      "Epoch:  10 | Loss (A):  0.000566876794369397 | Loss (B):  0.0005095928743179621 | Loss (C):  0.000508494644487999\n",
      "Epoch:  11 | Loss (A):  0.00045826972124872245 | Loss (B):  0.00041328469044693995 | Loss (C):  0.00041258889477045275\n",
      "Epoch:  12 | Loss (A):  0.0003725706083279343 | Loss (B):  0.0003365549440033782 | Loss (C):  0.00033610449400382693\n",
      "Epoch:  13 | Loss (A):  0.0003037863099353004 | Loss (B):  0.00027462157104256486 | Loss (C):  0.00027432586340157074\n",
      "Epoch:  14 | Loss (A):  0.0002480285462373487 | Loss (B):  0.00022426531134861862 | Loss (C):  0.0002240696063021076\n",
      "Epoch:  15 | Loss (A):  0.00020258946931650065 | Loss (B):  0.00018316921046267618 | Loss (C):  0.00018303914853912083\n",
      "Epoch:  16 | Loss (A):  0.00016546510944938586 | Loss (B):  0.00014957556184937257 | Loss (C):  0.00014948896906886086\n",
      "Epoch:  17 | Loss (A):  0.00013510483719120786 | Loss (B):  0.00012210190842879226 | Loss (C):  0.00012204421720478729\n",
      "Epoch:  18 | Loss (A):  0.00011027369069856957 | Loss (B):  9.96365663647017e-05 | Loss (C):  9.95981110616354e-05\n",
      "Epoch:  19 | Loss (A):  8.997137610155381e-05 | Loss (B):  8.127448396571931e-05 | Loss (C):  8.124882391326493e-05\n",
      "Epoch:  20 | Loss (A):  7.338040890107452e-05 | Loss (B):  6.627428908285413e-05 | Loss (C):  6.625712961629891e-05\n"
     ]
    }
   ],
   "source": [
    "def compute_factor(x, matrix1, matrix2, mode):\n",
    "    coeff = tensorly.tenalg.khatri_rao([matrix1.T, matrix2.T])\n",
    "    target = tensorly.unfold(x, mode=mode).T\n",
    "\n",
    "    return coeff, target, np.linalg.solve(np.dot(coeff.T, coeff), np.dot(coeff.T, target))\n",
    "\n",
    "def cp_als(x, r, max_iter = 20):\n",
    "    B = np.random.random((r, x.shape[1]))\n",
    "    C = np.random.random((r, x.shape[2]))\n",
    "\n",
    "    for epoch in range(max_iter):\n",
    "        # Compute factor matrices.\n",
    "        coeff_A, target_A, A = compute_factor(x, B, C, 0)\n",
    "        coeff_B, target_B, B = compute_factor(x, A, C, 1)\n",
    "        coeff_C, target_C, C = compute_factor(x, A, B, 2)\n",
    "\n",
    "        print(\"Epoch: \", epoch + 1, \"| Loss (A): \", np.square(np.dot(coeff_A, A) - target_A).mean(),\n",
    "                  \"| Loss (B): \", np.square(np.dot(coeff_B, B) - target_B).mean(), \"| Loss (C): \",\n",
    "                  np.square(np.dot(coeff_C, C) - target_C).mean())\n",
    "\n",
    "    return A.T, B.T, C.T\n",
    "\n",
    "factors = cp_als(X, 3)"
   ]
  },
  {
   "cell_type": "code",
   "execution_count": 15,
   "metadata": {
    "pycharm": {
     "name": "#%%\n"
    }
   },
   "outputs": [
    {
     "name": "stdout",
     "output_type": "stream",
     "text": [
      "Reconstruction Error: 6.625712961629891e-05\n"
     ]
    },
    {
     "data": {
      "image/png": "[encoded data removed]",
      "text/plain": [
       "<Figure size 576x360 with 9 Axes>"
      ]
     },
     "metadata": {},
     "output_type": "display_data"
    }
   ],
   "source": [
    "def r1_tensor(A, B, C):\n",
    "    A = A.reshape(-1, 1)\n",
    "    B = B.reshape(-1, 1)\n",
    "    C = C.reshape(-1, 1)\n",
    "\n",
    "    return np.tensordot(A * B.T, C, axes=0)[:, :, :, 0]\n",
    "\n",
    "def recover_three_way(factor_matrices):\n",
    "    A, B, C = factor_matrices\n",
    "    r = A.shape[1]\n",
    "    r1_tensors = np.zeros((A.shape[0], B.shape[0], C.shape[0], r))\n",
    "    for i in range(r):\n",
    "        r1_tensors[:, :, :, i] = r1_tensor(A[:, i], B[:, i], C[:, i])\n",
    "\n",
    "    return r1_tensors.sum(axis=3)\n",
    "\n",
    "def factor_plot_three_way(factor_matrices):\n",
    "    A, B, C = factor_matrices\n",
    "    r = A.shape[1]\n",
    "    fig, axes = plt.subplots(r, 3, figsize=(8, int(r * 1.5 + 1)))\n",
    "    factor_names = [\"Time (Synthetic Weights)\", \"Neurons (Input Signals)\", \"Trial (Input Amplitude)\"]\n",
    "    for idx, (factor, axs) in enumerate(zip(factor_matrices[:3], axes.T)):\n",
    "        axs[-1].set_xlabel(factor_names[idx])\n",
    "        for i, (f, ax) in enumerate(zip(factor.T, axs)):\n",
    "            sns.despine(top=True, ax=ax)\n",
    "            ax.plot(f)\n",
    "            axes[i, 0].set_ylabel(\"Factor \" + str(i + 1))\n",
    "    fig.tight_layout()\n",
    "\n",
    "M = recover_three_way(factors)\n",
    "print(f\"Reconstruction Error: {np.mean((X - M)**2)}\")\n",
    "factor_plot_three_way(factors)"
   ]
  },
  {
   "cell_type": "code",
   "execution_count": 15,
   "metadata": {
    "pycharm": {
     "name": "#%%\n"
    }
   },
   "outputs": [],
   "source": []
  }
 ],
 "metadata": {
  "kernelspec": {
   "display_name": "Python 3",
   "language": "python",
   "name": "python3"
  },
  "language_info": {
   "codemirror_mode": {
    "name": "ipython",
    "version": 3
   },
   "file_extension": ".py",
   "mimetype": "text/x-python",
   "name": "python",
   "nbconvert_exporter": "python",
   "pygments_lexer": "ipython3",
   "version": "3.6.10"
  }
 },
 "nbformat": 4,
 "nbformat_minor": 1
}